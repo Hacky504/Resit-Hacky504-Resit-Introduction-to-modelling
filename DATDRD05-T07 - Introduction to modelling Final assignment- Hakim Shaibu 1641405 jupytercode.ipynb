{
 "cells": [
  {
   "cell_type": "markdown",
   "id": "75206b45",
   "metadata": {},
   "source": [
    "# DATDRD05-T07 - Introduction to modelling Final assignment- Hakim Shaibu 1641405"
   ]
  },
  {
   "cell_type": "code",
   "execution_count": 40,
   "id": "a83e283c",
   "metadata": {},
   "outputs": [],
   "source": [
    "# Basic libraries for data manipulation and visualization\n",
    "import pandas as pd\n",
    "import seaborn as sns\n",
    "import matplotlib.pyplot as plt\n",
    "import numpy as np \n",
    "\n",
    "# Statsmodels for regression and statistical analysis\n",
    "import statsmodels.formula.api as smf\n",
    "from statsmodels.stats.outliers_influence import variance_inflation_factor as vif\n",
    "from statsmodels.tools.tools import add_constant\n",
    "\n",
    "# Model evaluation and formatting\n",
    "from stargazer.stargazer import Stargazer\n",
    "from IPython.core.display import HTML\n",
    "\n",
    "# Preprocessing and model selection\n",
    "from sklearn.preprocessing import StandardScaler, MinMaxScaler\n",
    "from sklearn.model_selection import RepeatedKFold, cross_val_score, GridSearchCV\n",
    "\n",
    "# Machine learning models\n",
    "from sklearn.linear_model import LinearRegression, Ridge\n",
    "\n",
    "# Deep learning with TensorFlow/Keras\n",
    "import tensorflow as tf\n",
    "from tensorflow.keras.wrappers.scikit_learn import KerasRegressor\n",
    "\n",
    "# Numerical operations\n",
    "from numpy import mean, absolute\n"
   ]
  },
  {
   "cell_type": "markdown",
   "id": "0fa01185",
   "metadata": {},
   "source": [
    "# Loading the data"
   ]
  },
  {
   "cell_type": "code",
   "execution_count": 41,
   "id": "4956d462",
   "metadata": {},
   "outputs": [],
   "source": [
    "df = pd.read_csv('1641405turnover.csv')"
   ]
  },
  {
   "cell_type": "code",
   "execution_count": 42,
   "id": "fc4d6b91",
   "metadata": {},
   "outputs": [
    {
     "data": {
      "text/html": [
       "<div>\n",
       "<style scoped>\n",
       "    .dataframe tbody tr th:only-of-type {\n",
       "        vertical-align: middle;\n",
       "    }\n",
       "\n",
       "    .dataframe tbody tr th {\n",
       "        vertical-align: top;\n",
       "    }\n",
       "\n",
       "    .dataframe thead th {\n",
       "        text-align: right;\n",
       "    }\n",
       "</style>\n",
       "<table border=\"1\" class=\"dataframe\">\n",
       "  <thead>\n",
       "    <tr style=\"text-align: right;\">\n",
       "      <th></th>\n",
       "      <th>Months_active</th>\n",
       "      <th>Distance_from_work</th>\n",
       "      <th>Age</th>\n",
       "      <th>Disciplined</th>\n",
       "      <th>Children</th>\n",
       "      <th>Social_drinker</th>\n",
       "      <th>Social_smoker</th>\n",
       "      <th>Pets</th>\n",
       "      <th>Weight</th>\n",
       "      <th>Height</th>\n",
       "      <th>BMI</th>\n",
       "      <th>Absent_hours</th>\n",
       "    </tr>\n",
       "  </thead>\n",
       "  <tbody>\n",
       "    <tr>\n",
       "      <th>0</th>\n",
       "      <td>10</td>\n",
       "      <td>2.36</td>\n",
       "      <td>37</td>\n",
       "      <td>no</td>\n",
       "      <td>0</td>\n",
       "      <td>no</td>\n",
       "      <td>no</td>\n",
       "      <td>0</td>\n",
       "      <td>83</td>\n",
       "      <td>172</td>\n",
       "      <td>28</td>\n",
       "      <td>8</td>\n",
       "    </tr>\n",
       "    <tr>\n",
       "      <th>1</th>\n",
       "      <td>3</td>\n",
       "      <td>7.22</td>\n",
       "      <td>28</td>\n",
       "      <td>no</td>\n",
       "      <td>1</td>\n",
       "      <td>yes</td>\n",
       "      <td>no</td>\n",
       "      <td>4</td>\n",
       "      <td>80</td>\n",
       "      <td>172</td>\n",
       "      <td>27</td>\n",
       "      <td>8</td>\n",
       "    </tr>\n",
       "    <tr>\n",
       "      <th>2</th>\n",
       "      <td>12</td>\n",
       "      <td>5.82</td>\n",
       "      <td>40</td>\n",
       "      <td>no</td>\n",
       "      <td>1</td>\n",
       "      <td>yes</td>\n",
       "      <td>no</td>\n",
       "      <td>1</td>\n",
       "      <td>73</td>\n",
       "      <td>171</td>\n",
       "      <td>25</td>\n",
       "      <td>8</td>\n",
       "    </tr>\n",
       "    <tr>\n",
       "      <th>3</th>\n",
       "      <td>14</td>\n",
       "      <td>4.96</td>\n",
       "      <td>47</td>\n",
       "      <td>no</td>\n",
       "      <td>2</td>\n",
       "      <td>no</td>\n",
       "      <td>no</td>\n",
       "      <td>1</td>\n",
       "      <td>86</td>\n",
       "      <td>165</td>\n",
       "      <td>32</td>\n",
       "      <td>1</td>\n",
       "    </tr>\n",
       "    <tr>\n",
       "      <th>4</th>\n",
       "      <td>14</td>\n",
       "      <td>4.96</td>\n",
       "      <td>47</td>\n",
       "      <td>no</td>\n",
       "      <td>2</td>\n",
       "      <td>no</td>\n",
       "      <td>no</td>\n",
       "      <td>1</td>\n",
       "      <td>86</td>\n",
       "      <td>165</td>\n",
       "      <td>32</td>\n",
       "      <td>2</td>\n",
       "    </tr>\n",
       "  </tbody>\n",
       "</table>\n",
       "</div>"
      ],
      "text/plain": [
       "   Months_active  Distance_from_work  Age Disciplined  Children  \\\n",
       "0             10                2.36   37          no         0   \n",
       "1              3                7.22   28          no         1   \n",
       "2             12                5.82   40          no         1   \n",
       "3             14                4.96   47          no         2   \n",
       "4             14                4.96   47          no         2   \n",
       "\n",
       "  Social_drinker Social_smoker  Pets  Weight  Height  BMI  Absent_hours  \n",
       "0             no            no     0      83     172   28             8  \n",
       "1            yes            no     4      80     172   27             8  \n",
       "2            yes            no     1      73     171   25             8  \n",
       "3             no            no     1      86     165   32             1  \n",
       "4             no            no     1      86     165   32             2  "
      ]
     },
     "execution_count": 42,
     "metadata": {},
     "output_type": "execute_result"
    }
   ],
   "source": [
    "# Creating a copy of Original Dataframe to avoid modifying the Original data\n",
    "df_copy = df.copy()\n",
    "df_copy.head()"
   ]
  },
  {
   "cell_type": "markdown",
   "id": "7cd47a17",
   "metadata": {},
   "source": [
    "# Data Preperation "
   ]
  },
  {
   "cell_type": "code",
   "execution_count": 43,
   "id": "c6eb3156",
   "metadata": {},
   "outputs": [
    {
     "data": {
      "text/html": [
       "<div>\n",
       "<style scoped>\n",
       "    .dataframe tbody tr th:only-of-type {\n",
       "        vertical-align: middle;\n",
       "    }\n",
       "\n",
       "    .dataframe tbody tr th {\n",
       "        vertical-align: top;\n",
       "    }\n",
       "\n",
       "    .dataframe thead th {\n",
       "        text-align: right;\n",
       "    }\n",
       "</style>\n",
       "<table border=\"1\" class=\"dataframe\">\n",
       "  <thead>\n",
       "    <tr style=\"text-align: right;\">\n",
       "      <th></th>\n",
       "      <th>Social_drinker_yes</th>\n",
       "      <th>Social_smoker_yes</th>\n",
       "      <th>Disciplined_yes</th>\n",
       "    </tr>\n",
       "  </thead>\n",
       "  <tbody>\n",
       "    <tr>\n",
       "      <th>0</th>\n",
       "      <td>0</td>\n",
       "      <td>0</td>\n",
       "      <td>0</td>\n",
       "    </tr>\n",
       "    <tr>\n",
       "      <th>1</th>\n",
       "      <td>1</td>\n",
       "      <td>0</td>\n",
       "      <td>0</td>\n",
       "    </tr>\n",
       "    <tr>\n",
       "      <th>2</th>\n",
       "      <td>1</td>\n",
       "      <td>0</td>\n",
       "      <td>0</td>\n",
       "    </tr>\n",
       "    <tr>\n",
       "      <th>3</th>\n",
       "      <td>0</td>\n",
       "      <td>0</td>\n",
       "      <td>0</td>\n",
       "    </tr>\n",
       "    <tr>\n",
       "      <th>4</th>\n",
       "      <td>0</td>\n",
       "      <td>0</td>\n",
       "      <td>0</td>\n",
       "    </tr>\n",
       "  </tbody>\n",
       "</table>\n",
       "</div>"
      ],
      "text/plain": [
       "   Social_drinker_yes  Social_smoker_yes  Disciplined_yes\n",
       "0                   0                  0                0\n",
       "1                   1                  0                0\n",
       "2                   1                  0                0\n",
       "3                   0                  0                0\n",
       "4                   0                  0                0"
      ]
     },
     "execution_count": 43,
     "metadata": {},
     "output_type": "execute_result"
    }
   ],
   "source": [
    "#  Encoding objects datatype columns. \n",
    "df_dummies = pd.get_dummies(df_copy[['Social_drinker', 'Social_smoker', 'Disciplined']], drop_first=True).astype(int)\n",
    "\n",
    "df_dummies.head()"
   ]
  },
  {
   "cell_type": "markdown",
   "id": "8c642664",
   "metadata": {},
   "source": [
    "### Replacing original columns with dummies "
   ]
  },
  {
   "cell_type": "code",
   "execution_count": 44,
   "id": "5a3630b9",
   "metadata": {},
   "outputs": [
    {
     "data": {
      "text/html": [
       "<div>\n",
       "<style scoped>\n",
       "    .dataframe tbody tr th:only-of-type {\n",
       "        vertical-align: middle;\n",
       "    }\n",
       "\n",
       "    .dataframe tbody tr th {\n",
       "        vertical-align: top;\n",
       "    }\n",
       "\n",
       "    .dataframe thead th {\n",
       "        text-align: right;\n",
       "    }\n",
       "</style>\n",
       "<table border=\"1\" class=\"dataframe\">\n",
       "  <thead>\n",
       "    <tr style=\"text-align: right;\">\n",
       "      <th></th>\n",
       "      <th>Months_active</th>\n",
       "      <th>Distance_from_work</th>\n",
       "      <th>Age</th>\n",
       "      <th>Children</th>\n",
       "      <th>Pets</th>\n",
       "      <th>Weight</th>\n",
       "      <th>Height</th>\n",
       "      <th>BMI</th>\n",
       "      <th>Absent_hours</th>\n",
       "      <th>Social_drinker_yes</th>\n",
       "      <th>Social_smoker_yes</th>\n",
       "      <th>Disciplined_yes</th>\n",
       "    </tr>\n",
       "  </thead>\n",
       "  <tbody>\n",
       "    <tr>\n",
       "      <th>0</th>\n",
       "      <td>10</td>\n",
       "      <td>2.36</td>\n",
       "      <td>37</td>\n",
       "      <td>0</td>\n",
       "      <td>0</td>\n",
       "      <td>83</td>\n",
       "      <td>172</td>\n",
       "      <td>28</td>\n",
       "      <td>8</td>\n",
       "      <td>0</td>\n",
       "      <td>0</td>\n",
       "      <td>0</td>\n",
       "    </tr>\n",
       "    <tr>\n",
       "      <th>1</th>\n",
       "      <td>3</td>\n",
       "      <td>7.22</td>\n",
       "      <td>28</td>\n",
       "      <td>1</td>\n",
       "      <td>4</td>\n",
       "      <td>80</td>\n",
       "      <td>172</td>\n",
       "      <td>27</td>\n",
       "      <td>8</td>\n",
       "      <td>1</td>\n",
       "      <td>0</td>\n",
       "      <td>0</td>\n",
       "    </tr>\n",
       "    <tr>\n",
       "      <th>2</th>\n",
       "      <td>12</td>\n",
       "      <td>5.82</td>\n",
       "      <td>40</td>\n",
       "      <td>1</td>\n",
       "      <td>1</td>\n",
       "      <td>73</td>\n",
       "      <td>171</td>\n",
       "      <td>25</td>\n",
       "      <td>8</td>\n",
       "      <td>1</td>\n",
       "      <td>0</td>\n",
       "      <td>0</td>\n",
       "    </tr>\n",
       "    <tr>\n",
       "      <th>3</th>\n",
       "      <td>14</td>\n",
       "      <td>4.96</td>\n",
       "      <td>47</td>\n",
       "      <td>2</td>\n",
       "      <td>1</td>\n",
       "      <td>86</td>\n",
       "      <td>165</td>\n",
       "      <td>32</td>\n",
       "      <td>1</td>\n",
       "      <td>0</td>\n",
       "      <td>0</td>\n",
       "      <td>0</td>\n",
       "    </tr>\n",
       "    <tr>\n",
       "      <th>4</th>\n",
       "      <td>14</td>\n",
       "      <td>4.96</td>\n",
       "      <td>47</td>\n",
       "      <td>2</td>\n",
       "      <td>1</td>\n",
       "      <td>86</td>\n",
       "      <td>165</td>\n",
       "      <td>32</td>\n",
       "      <td>2</td>\n",
       "      <td>0</td>\n",
       "      <td>0</td>\n",
       "      <td>0</td>\n",
       "    </tr>\n",
       "  </tbody>\n",
       "</table>\n",
       "</div>"
      ],
      "text/plain": [
       "   Months_active  Distance_from_work  Age  Children  Pets  Weight  Height  \\\n",
       "0             10                2.36   37         0     0      83     172   \n",
       "1              3                7.22   28         1     4      80     172   \n",
       "2             12                5.82   40         1     1      73     171   \n",
       "3             14                4.96   47         2     1      86     165   \n",
       "4             14                4.96   47         2     1      86     165   \n",
       "\n",
       "   BMI  Absent_hours  Social_drinker_yes  Social_smoker_yes  Disciplined_yes  \n",
       "0   28             8                   0                  0                0  \n",
       "1   27             8                   1                  0                0  \n",
       "2   25             8                   1                  0                0  \n",
       "3   32             1                   0                  0                0  \n",
       "4   32             2                   0                  0                0  "
      ]
     },
     "execution_count": 44,
     "metadata": {},
     "output_type": "execute_result"
    }
   ],
   "source": [
    "df_dropped = df_copy.drop(['Social_drinker', 'Social_smoker', 'Disciplined'], axis=1)\n",
    "\n",
    "# Concatenate the dummy columns back into the original DataFrame\n",
    "df_cleaned = pd.concat([df_dropped, df_dummies], axis=1)\n",
    "\n",
    "# Optional: check the updated DataFrame\n",
    "df_cleaned.head()"
   ]
  },
  {
   "cell_type": "markdown",
   "id": "8c1b99be",
   "metadata": {},
   "source": [
    "### Variable columns"
   ]
  },
  {
   "cell_type": "code",
   "execution_count": 45,
   "id": "8a8eb6b6",
   "metadata": {},
   "outputs": [],
   "source": [
    "# Target\n",
    "Months_active = df_cleaned['Months_active']\n",
    "# Features \n",
    "Distance_from_work = df_cleaned['Distance_from_work']\n",
    "Age = df_cleaned['Age']\n",
    "Children = df_cleaned['Children']\n",
    "Pets = df_cleaned['Pets']\n",
    "Weight = df_cleaned['Weight']\n",
    "Height = df_cleaned['Height']\n",
    "BMI = df_cleaned['BMI']\n",
    "Absent_hours = df_cleaned['Absent_hours']\n",
    "Social_drinker_yes = df_cleaned['Social_drinker_yes']\n",
    "Social_smoker_yes = df_cleaned['Social_smoker_yes']\n",
    "Disciplined_yes = df_cleaned['Disciplined_yes']"
   ]
  },
  {
   "cell_type": "markdown",
   "id": "8f59be58",
   "metadata": {},
   "source": [
    "# Assignment 1 "
   ]
  },
  {
   "cell_type": "code",
   "execution_count": 46,
   "id": "25041f9d",
   "metadata": {},
   "outputs": [
    {
     "name": "stdout",
     "output_type": "stream",
     "text": [
      "                    Months_active  Distance_from_work       Age  Children\n",
      "Months_active            1.000000           -0.381367  0.669429 -0.052922\n",
      "Distance_from_work      -0.381367            1.000000 -0.254506  0.387894\n",
      "Age                      0.669429           -0.254506  1.000000  0.055206\n",
      "Children                -0.052922            0.387894  0.055206  1.000000\n"
     ]
    },
    {
     "data": {
      "text/plain": [
       "<Axes: >"
      ]
     },
     "execution_count": 46,
     "metadata": {},
     "output_type": "execute_result"
    },
    {
     "data": {
      "image/png": "[encoded data removed]",
      "text/plain": [
       "<Figure size 640x480 with 2 Axes>"
      ]
     },
     "metadata": {},
     "output_type": "display_data"
    }
   ],
   "source": [
    "# Analysing the correlation between the variables Months_active, Distance_from_work, Age, and Children\n",
    "# Correlation Heatmap\n",
    "data = df_cleaned[['Months_active','Distance_from_work','Age','Children']]\n",
    "matrix = data.corr()\n",
    "print(matrix)\n",
    "sns.heatmap(matrix, annot=True)"
   ]
  },
  {
   "cell_type": "markdown",
   "id": "62ae4662",
   "metadata": {},
   "source": [
    "# Assignment 1.2"
   ]
  },
  {
   "cell_type": "code",
   "execution_count": 47,
   "id": "a04d5359",
   "metadata": {},
   "outputs": [
    {
     "data": {
      "text/plain": [
       "<seaborn.axisgrid.PairGrid at 0x21407ee3f40>"
      ]
     },
     "execution_count": 47,
     "metadata": {},
     "output_type": "execute_result"
    },
    {
     "data": {
      "image/png": "[encoded data removed]",
      "text/plain": [
       "<Figure size 1000x1000 with 20 Axes>"
      ]
     },
     "metadata": {},
     "output_type": "display_data"
    }
   ],
   "source": [
    "# Scatter matrix\n",
    "sns.pairplot(df_cleaned[['Months_active', 'Distance_from_work', 'Age', 'Children']])"
   ]
  },
  {
   "cell_type": "markdown",
   "id": "75280a3b",
   "metadata": {},
   "source": [
    "# Assignment 2.1"
   ]
  },
  {
   "cell_type": "code",
   "execution_count": 48,
   "id": "9fc141fc",
   "metadata": {},
   "outputs": [
    {
     "data": {
      "text/html": [
       "<div>\n",
       "<style scoped>\n",
       "    .dataframe tbody tr th:only-of-type {\n",
       "        vertical-align: middle;\n",
       "    }\n",
       "\n",
       "    .dataframe tbody tr th {\n",
       "        vertical-align: top;\n",
       "    }\n",
       "\n",
       "    .dataframe thead th {\n",
       "        text-align: right;\n",
       "    }\n",
       "</style>\n",
       "<table border=\"1\" class=\"dataframe\">\n",
       "  <thead>\n",
       "    <tr style=\"text-align: right;\">\n",
       "      <th></th>\n",
       "      <th>Social_drinker_yes</th>\n",
       "      <th>Social_smoker_yes</th>\n",
       "      <th>Disciplined_yes</th>\n",
       "    </tr>\n",
       "  </thead>\n",
       "  <tbody>\n",
       "    <tr>\n",
       "      <th>0</th>\n",
       "      <td>0</td>\n",
       "      <td>0</td>\n",
       "      <td>0</td>\n",
       "    </tr>\n",
       "    <tr>\n",
       "      <th>1</th>\n",
       "      <td>1</td>\n",
       "      <td>0</td>\n",
       "      <td>0</td>\n",
       "    </tr>\n",
       "    <tr>\n",
       "      <th>2</th>\n",
       "      <td>1</td>\n",
       "      <td>0</td>\n",
       "      <td>0</td>\n",
       "    </tr>\n",
       "    <tr>\n",
       "      <th>3</th>\n",
       "      <td>0</td>\n",
       "      <td>0</td>\n",
       "      <td>0</td>\n",
       "    </tr>\n",
       "    <tr>\n",
       "      <th>4</th>\n",
       "      <td>0</td>\n",
       "      <td>0</td>\n",
       "      <td>0</td>\n",
       "    </tr>\n",
       "  </tbody>\n",
       "</table>\n",
       "</div>"
      ],
      "text/plain": [
       "   Social_drinker_yes  Social_smoker_yes  Disciplined_yes\n",
       "0                   0                  0                0\n",
       "1                   1                  0                0\n",
       "2                   1                  0                0\n",
       "3                   0                  0                0\n",
       "4                   0                  0                0"
      ]
     },
     "execution_count": 48,
     "metadata": {},
     "output_type": "execute_result"
    }
   ],
   "source": [
    "# dummy variables were created in data preparation \n",
    "df_dummies.head()"
   ]
  },
  {
   "cell_type": "code",
   "execution_count": 49,
   "id": "51c8c554",
   "metadata": {},
   "outputs": [
    {
     "data": {
      "text/html": [
       "<div>\n",
       "<style scoped>\n",
       "    .dataframe tbody tr th:only-of-type {\n",
       "        vertical-align: middle;\n",
       "    }\n",
       "\n",
       "    .dataframe tbody tr th {\n",
       "        vertical-align: top;\n",
       "    }\n",
       "\n",
       "    .dataframe thead th {\n",
       "        text-align: right;\n",
       "    }\n",
       "</style>\n",
       "<table border=\"1\" class=\"dataframe\">\n",
       "  <thead>\n",
       "    <tr style=\"text-align: right;\">\n",
       "      <th></th>\n",
       "      <th>Months_active</th>\n",
       "      <th>Distance_from_work</th>\n",
       "      <th>Age</th>\n",
       "      <th>Children</th>\n",
       "      <th>Pets</th>\n",
       "      <th>Weight</th>\n",
       "      <th>Height</th>\n",
       "      <th>BMI</th>\n",
       "      <th>Absent_hours</th>\n",
       "      <th>Social_drinker_yes</th>\n",
       "      <th>Social_smoker_yes</th>\n",
       "      <th>Disciplined_yes</th>\n",
       "    </tr>\n",
       "  </thead>\n",
       "  <tbody>\n",
       "    <tr>\n",
       "      <th>0</th>\n",
       "      <td>10</td>\n",
       "      <td>2.36</td>\n",
       "      <td>37</td>\n",
       "      <td>0</td>\n",
       "      <td>0</td>\n",
       "      <td>83</td>\n",
       "      <td>172</td>\n",
       "      <td>28</td>\n",
       "      <td>8</td>\n",
       "      <td>0</td>\n",
       "      <td>0</td>\n",
       "      <td>0</td>\n",
       "    </tr>\n",
       "    <tr>\n",
       "      <th>1</th>\n",
       "      <td>3</td>\n",
       "      <td>7.22</td>\n",
       "      <td>28</td>\n",
       "      <td>1</td>\n",
       "      <td>4</td>\n",
       "      <td>80</td>\n",
       "      <td>172</td>\n",
       "      <td>27</td>\n",
       "      <td>8</td>\n",
       "      <td>1</td>\n",
       "      <td>0</td>\n",
       "      <td>0</td>\n",
       "    </tr>\n",
       "    <tr>\n",
       "      <th>2</th>\n",
       "      <td>12</td>\n",
       "      <td>5.82</td>\n",
       "      <td>40</td>\n",
       "      <td>1</td>\n",
       "      <td>1</td>\n",
       "      <td>73</td>\n",
       "      <td>171</td>\n",
       "      <td>25</td>\n",
       "      <td>8</td>\n",
       "      <td>1</td>\n",
       "      <td>0</td>\n",
       "      <td>0</td>\n",
       "    </tr>\n",
       "    <tr>\n",
       "      <th>3</th>\n",
       "      <td>14</td>\n",
       "      <td>4.96</td>\n",
       "      <td>47</td>\n",
       "      <td>2</td>\n",
       "      <td>1</td>\n",
       "      <td>86</td>\n",
       "      <td>165</td>\n",
       "      <td>32</td>\n",
       "      <td>1</td>\n",
       "      <td>0</td>\n",
       "      <td>0</td>\n",
       "      <td>0</td>\n",
       "    </tr>\n",
       "    <tr>\n",
       "      <th>4</th>\n",
       "      <td>14</td>\n",
       "      <td>4.96</td>\n",
       "      <td>47</td>\n",
       "      <td>2</td>\n",
       "      <td>1</td>\n",
       "      <td>86</td>\n",
       "      <td>165</td>\n",
       "      <td>32</td>\n",
       "      <td>2</td>\n",
       "      <td>0</td>\n",
       "      <td>0</td>\n",
       "      <td>0</td>\n",
       "    </tr>\n",
       "  </tbody>\n",
       "</table>\n",
       "</div>"
      ],
      "text/plain": [
       "   Months_active  Distance_from_work  Age  Children  Pets  Weight  Height  \\\n",
       "0             10                2.36   37         0     0      83     172   \n",
       "1              3                7.22   28         1     4      80     172   \n",
       "2             12                5.82   40         1     1      73     171   \n",
       "3             14                4.96   47         2     1      86     165   \n",
       "4             14                4.96   47         2     1      86     165   \n",
       "\n",
       "   BMI  Absent_hours  Social_drinker_yes  Social_smoker_yes  Disciplined_yes  \n",
       "0   28             8                   0                  0                0  \n",
       "1   27             8                   1                  0                0  \n",
       "2   25             8                   1                  0                0  \n",
       "3   32             1                   0                  0                0  \n",
       "4   32             2                   0                  0                0  "
      ]
     },
     "execution_count": 49,
     "metadata": {},
     "output_type": "execute_result"
    }
   ],
   "source": [
    "# replacing original columns with dummies to prevent redundancy\n",
    "df_cleaned.head(5)"
   ]
  },
  {
   "cell_type": "code",
   "execution_count": 50,
   "id": "b34ca0f8",
   "metadata": {},
   "outputs": [
    {
     "name": "stdout",
     "output_type": "stream",
     "text": [
      "                            OLS Regression Results                            \n",
      "==============================================================================\n",
      "Dep. Variable:          Months_active   R-squared:                       0.677\n",
      "Model:                            OLS   Adj. R-squared:                  0.671\n",
      "Method:                 Least Squares   F-statistic:                     124.4\n",
      "Date:                Tue, 22 Apr 2025   Prob (F-statistic):          3.56e-152\n",
      "Time:                        15:57:32   Log-Likelihood:                -1551.6\n",
      "No. Observations:                 666   AIC:                             3127.\n",
      "Df Residuals:                     654   BIC:                             3181.\n",
      "Df Model:                          11                                         \n",
      "Covariance Type:            nonrobust                                         \n",
      "======================================================================================\n",
      "                         coef    std err          t      P>|t|      [0.025      0.975]\n",
      "--------------------------------------------------------------------------------------\n",
      "Intercept             82.8105     14.903      5.557      0.000      53.547     112.074\n",
      "Distance_from_work    -0.6028      0.093     -6.495      0.000      -0.785      -0.421\n",
      "Age                    0.2671      0.019     13.823      0.000       0.229       0.305\n",
      "Children              -0.1062      0.101     -1.051      0.294      -0.305       0.092\n",
      "Pets                  -0.9510      0.082    -11.556      0.000      -1.113      -0.789\n",
      "Weight                 0.4513      0.095      4.775      0.000       0.266       0.637\n",
      "Height                -0.4885      0.087     -5.584      0.000      -0.660      -0.317\n",
      "BMI                   -1.1091      0.272     -4.074      0.000      -1.644      -0.575\n",
      "Absent_hours          -0.0024      0.007     -0.323      0.747      -0.017       0.012\n",
      "Disciplined_yes       -1.1523      0.425     -2.713      0.007      -1.986      -0.318\n",
      "Social_drinker_yes     2.2812      0.231      9.870      0.000       1.827       2.735\n",
      "Social_smoker_yes      2.7284      0.414      6.585      0.000       1.915       3.542\n",
      "==============================================================================\n",
      "Omnibus:                       59.901   Durbin-Watson:                   1.991\n",
      "Prob(Omnibus):                  0.000   Jarque-Bera (JB):              246.137\n",
      "Skew:                           0.289   Prob(JB):                     3.56e-54\n",
      "Kurtosis:                       5.922   Cond. No.                     2.99e+04\n",
      "==============================================================================\n",
      "\n",
      "Notes:\n",
      "[1] Standard Errors assume that the covariance matrix of the errors is correctly specified.\n",
      "[2] The condition number is large, 2.99e+04. This might indicate that there are\n",
      "strong multicollinearity or other numerical problems.\n"
     ]
    }
   ],
   "source": [
    "model1 = smf.ols('Months_active ~ Distance_from_work + Age + Children + Pets + Weight + Height + BMI + Absent_hours + Disciplined_yes + Social_drinker_yes + Social_smoker_yes', data = df_cleaned).fit()\n",
    "\n",
    "print(model1.summary())"
   ]
  },
  {
   "cell_type": "markdown",
   "id": "cb0d1b18",
   "metadata": {},
   "source": [
    "# Assignment 2.2 "
   ]
  },
  {
   "cell_type": "code",
   "execution_count": 51,
   "id": "bd8b35e5",
   "metadata": {},
   "outputs": [
    {
     "name": "stdout",
     "output_type": "stream",
     "text": [
      "              variable           VIF\n",
      "0                const  23500.576915\n",
      "1   Distance_from_work      1.670810\n",
      "2                  Age      1.647348\n",
      "3             Children      1.340664\n",
      "4                 Pets      1.327260\n",
      "5               Weight    157.993184\n",
      "6               Height     28.840492\n",
      "7                  BMI    147.152792\n",
      "8         Absent_hours      1.067724\n",
      "9      Disciplined_yes      1.077221\n",
      "10  Social_drinker_yes      1.378557\n",
      "11   Social_smoker_yes      1.214746\n"
     ]
    }
   ],
   "source": [
    "# check for multicollinearity (with the use of VIF using all variables)\n",
    "\n",
    "X = df_cleaned[['Distance_from_work', 'Age', 'Children',\n",
    "        'Pets', 'Weight', 'Height', 'BMI',\n",
    "       'Absent_hours', 'Disciplined_yes',\n",
    "        'Social_drinker_yes',\n",
    "       'Social_smoker_yes']].dropna()  # select the relevant variables and delete missing values\n",
    "X = add_constant(X)  # add a constant to the variables. VIF WON'T WORK CORRECTLY IF YOU DON'T DO THIS\n",
    "\n",
    "# Create a dataframe that contains the VIF values\n",
    "VIF_data = pd.DataFrame()  # create a pandas dataframe\n",
    "VIF_data[\"variable\"] = X.columns  # create a variable that simply lists the names of the variables you picked\n",
    "VIF_data[\"VIF\"] = [vif(X, i) for i in range(len(X.columns))]  # a loop that creates VIF values for each variable and then puts it in the VIF column\n",
    "\n",
    "print(VIF_data)  # print the results"
   ]
  },
  {
   "cell_type": "code",
   "execution_count": 52,
   "id": "7c0739bb",
   "metadata": {},
   "outputs": [
    {
     "name": "stdout",
     "output_type": "stream",
     "text": [
      "             variable        VIF\n",
      "0               const  80.328522\n",
      "1  Distance_from_work   1.550888\n",
      "2                 Age   1.631910\n",
      "3            Children   1.333588\n",
      "4                Pets   1.298257\n",
      "5                 BMI   1.632709\n",
      "6        Absent_hours   1.048680\n",
      "7     Disciplined_yes   1.072180\n",
      "8  Social_drinker_yes   1.273370\n",
      "9   Social_smoker_yes   1.174880\n"
     ]
    }
   ],
   "source": [
    "# check for multicollinearity using VIF with all variables except  the ones with high VIF scores\n",
    "\n",
    "X = df_cleaned[['Distance_from_work', 'Age', 'Children',\n",
    "        'Pets','BMI',\n",
    "       'Absent_hours', 'Disciplined_yes',\n",
    "        'Social_drinker_yes',\n",
    "       'Social_smoker_yes']].dropna()  \n",
    "X = add_constant(X)  \n",
    "\n",
    "# Create a dataframe that contains the VIF values\n",
    "VIF_data = pd.DataFrame()  # create a pandas dataframe\n",
    "VIF_data[\"variable\"] = X.columns  # create a variable that simply lists the names of the variables you picked\n",
    "VIF_data[\"VIF\"] = [vif(X, i) for i in range(len(X.columns))] \n",
    "\n",
    "print(VIF_data) "
   ]
  },
  {
   "cell_type": "code",
   "execution_count": 53,
   "id": "1cfe3122",
   "metadata": {},
   "outputs": [
    {
     "name": "stdout",
     "output_type": "stream",
     "text": [
      "                            OLS Regression Results                            \n",
      "==============================================================================\n",
      "Dep. Variable:          Months_active   R-squared:                       0.655\n",
      "Model:                            OLS   Adj. R-squared:                  0.651\n",
      "Method:                 Least Squares   F-statistic:                     138.6\n",
      "Date:                Tue, 22 Apr 2025   Prob (F-statistic):          2.28e-145\n",
      "Time:                        15:57:32   Log-Likelihood:                -1572.7\n",
      "No. Observations:                 666   AIC:                             3165.\n",
      "Df Residuals:                     656   BIC:                             3210.\n",
      "Df Model:                           9                                         \n",
      "Covariance Type:            nonrobust                                         \n",
      "======================================================================================\n",
      "                         coef    std err          t      P>|t|      [0.025      0.975]\n",
      "--------------------------------------------------------------------------------------\n",
      "Intercept             -1.3150      0.898     -1.464      0.144      -3.078       0.448\n",
      "Distance_from_work    -0.5039      0.092     -5.468      0.000      -0.685      -0.323\n",
      "Age                    0.2764      0.020     13.947      0.000       0.238       0.315\n",
      "Children              -0.0660      0.104     -0.635      0.526      -0.270       0.138\n",
      "Pets                  -0.9035      0.084    -10.771      0.000      -1.068      -0.739\n",
      "BMI                    0.2065      0.030      6.988      0.000       0.149       0.265\n",
      "Absent_hours          -0.0056      0.008     -0.745      0.457      -0.020       0.009\n",
      "Disciplined_yes       -1.1889      0.437     -2.723      0.007      -2.046      -0.331\n",
      "Social_drinker_yes     1.9576      0.229      8.551      0.000       1.508       2.407\n",
      "Social_smoker_yes      2.3384      0.420      5.568      0.000       1.514       3.163\n",
      "==============================================================================\n",
      "Omnibus:                       57.542   Durbin-Watson:                   2.035\n",
      "Prob(Omnibus):                  0.000   Jarque-Bera (JB):              269.345\n",
      "Skew:                           0.188   Prob(JB):                     3.26e-59\n",
      "Kurtosis:                       6.093   Cond. No.                         421.\n",
      "==============================================================================\n",
      "\n",
      "Notes:\n",
      "[1] Standard Errors assume that the covariance matrix of the errors is correctly specified.\n"
     ]
    }
   ],
   "source": [
    "model2 = smf.ols('Months_active ~ Distance_from_work + Age + Children + Pets + BMI + Absent_hours + Disciplined_yes + Social_drinker_yes + Social_smoker_yes',data=df_cleaned).fit()\n",
    "print(model2.summary())"
   ]
  },
  {
   "cell_type": "markdown",
   "id": "1a6706d4",
   "metadata": {},
   "source": [
    "# Assignment 2.3"
   ]
  },
  {
   "cell_type": "code",
   "execution_count": 54,
   "id": "2f4a092d",
   "metadata": {},
   "outputs": [
    {
     "data": {
      "text/html": [
       "<table style=\"text-align:center\"><tr><td colspan=\"3\" style=\"border-bottom: 1px solid black\"></td></tr>\n",
       "<tr><td style=\"text-align:left\"></td><td colspan=\"2\"><em>Dependent variable: Months_active</em></td></tr><tr><td style=\"text-align:left\"></td><tr><td style=\"text-align:left\"></td><td>(1)</td><td>(2)</td></tr>\n",
       "<tr><td colspan=\"3\" style=\"border-bottom: 1px solid black\"></td></tr>\n",
       "\n",
       "<tr><td style=\"text-align:left\">Absent_hours</td><td>-0.002<sup></sup></td><td>-0.006<sup></sup></td></tr>\n",
       "<tr><td style=\"text-align:left\"></td><td>(0.007)</td><td>(0.008)</td></tr>\n",
       "<tr><td style=\"text-align:left\">Age</td><td>0.267<sup>***</sup></td><td>0.276<sup>***</sup></td></tr>\n",
       "<tr><td style=\"text-align:left\"></td><td>(0.019)</td><td>(0.020)</td></tr>\n",
       "<tr><td style=\"text-align:left\">BMI</td><td>-1.109<sup>***</sup></td><td>0.207<sup>***</sup></td></tr>\n",
       "<tr><td style=\"text-align:left\"></td><td>(0.272)</td><td>(0.030)</td></tr>\n",
       "<tr><td style=\"text-align:left\">Children</td><td>-0.106<sup></sup></td><td>-0.066<sup></sup></td></tr>\n",
       "<tr><td style=\"text-align:left\"></td><td>(0.101)</td><td>(0.104)</td></tr>\n",
       "<tr><td style=\"text-align:left\">Disciplined_yes</td><td>-1.152<sup>***</sup></td><td>-1.189<sup>***</sup></td></tr>\n",
       "<tr><td style=\"text-align:left\"></td><td>(0.425)</td><td>(0.437)</td></tr>\n",
       "<tr><td style=\"text-align:left\">Distance_from_work</td><td>-0.603<sup>***</sup></td><td>-0.504<sup>***</sup></td></tr>\n",
       "<tr><td style=\"text-align:left\"></td><td>(0.093)</td><td>(0.092)</td></tr>\n",
       "<tr><td style=\"text-align:left\">Height</td><td>-0.489<sup>***</sup></td><td></td></tr>\n",
       "<tr><td style=\"text-align:left\"></td><td>(0.087)</td><td></td></tr>\n",
       "<tr><td style=\"text-align:left\">Intercept</td><td>82.811<sup>***</sup></td><td>-1.315<sup></sup></td></tr>\n",
       "<tr><td style=\"text-align:left\"></td><td>(14.903)</td><td>(0.898)</td></tr>\n",
       "<tr><td style=\"text-align:left\">Pets</td><td>-0.951<sup>***</sup></td><td>-0.903<sup>***</sup></td></tr>\n",
       "<tr><td style=\"text-align:left\"></td><td>(0.082)</td><td>(0.084)</td></tr>\n",
       "<tr><td style=\"text-align:left\">Social_drinker_yes</td><td>2.281<sup>***</sup></td><td>1.958<sup>***</sup></td></tr>\n",
       "<tr><td style=\"text-align:left\"></td><td>(0.231)</td><td>(0.229)</td></tr>\n",
       "<tr><td style=\"text-align:left\">Social_smoker_yes</td><td>2.728<sup>***</sup></td><td>2.338<sup>***</sup></td></tr>\n",
       "<tr><td style=\"text-align:left\"></td><td>(0.414)</td><td>(0.420)</td></tr>\n",
       "<tr><td style=\"text-align:left\">Weight</td><td>0.451<sup>***</sup></td><td></td></tr>\n",
       "<tr><td style=\"text-align:left\"></td><td>(0.095)</td><td></td></tr>\n",
       "\n",
       "<td colspan=\"3\" style=\"border-bottom: 1px solid black\"></td></tr>\n",
       "<tr><td style=\"text-align: left\">Observations</td><td>666</td><td>666</td></tr><tr><td style=\"text-align: left\">R<sup>2</sup></td><td>0.677</td><td>0.655</td></tr><tr><td style=\"text-align: left\">Adjusted R<sup>2</sup></td><td>0.671</td><td>0.651</td></tr><tr><td style=\"text-align: left\">Residual Std. Error</td><td>2.509 (df=654)</td><td>2.586 (df=656)</td></tr><tr><td style=\"text-align: left\">F Statistic</td><td>124.370<sup>***</sup> (df=11; 654)</td><td>138.618<sup>***</sup> (df=9; 656)</td></tr>\n",
       "<tr><td colspan=\"3\" style=\"border-bottom: 1px solid black\"></td></tr><tr><td style=\"text-align: left\">Note:</td><td colspan=\"2\" style=\"text-align: right\"><sup>*</sup>p&lt;0.1; <sup>**</sup>p&lt;0.05; <sup>***</sup>p&lt;0.01</td></tr></table>"
      ],
      "text/plain": [
       "<IPython.core.display.HTML object>"
      ]
     },
     "execution_count": 54,
     "metadata": {},
     "output_type": "execute_result"
    }
   ],
   "source": [
    "Table = Stargazer([model1, model2])\n",
    "\n",
    "HTML(Table.render_html())"
   ]
  },
  {
   "cell_type": "markdown",
   "id": "5e94ed9c",
   "metadata": {},
   "source": [
    "# Assignment 3.2"
   ]
  },
  {
   "cell_type": "code",
   "execution_count": 55,
   "id": "66237306",
   "metadata": {},
   "outputs": [
    {
     "data": {
      "text/html": [
       "<div>\n",
       "<style scoped>\n",
       "    .dataframe tbody tr th:only-of-type {\n",
       "        vertical-align: middle;\n",
       "    }\n",
       "\n",
       "    .dataframe tbody tr th {\n",
       "        vertical-align: top;\n",
       "    }\n",
       "\n",
       "    .dataframe thead th {\n",
       "        text-align: right;\n",
       "    }\n",
       "</style>\n",
       "<table border=\"1\" class=\"dataframe\">\n",
       "  <thead>\n",
       "    <tr style=\"text-align: right;\">\n",
       "      <th></th>\n",
       "      <th>Months_active</th>\n",
       "      <th>Distance_from_work</th>\n",
       "      <th>Age</th>\n",
       "      <th>Children</th>\n",
       "      <th>Pets</th>\n",
       "      <th>Weight</th>\n",
       "      <th>Height</th>\n",
       "      <th>BMI</th>\n",
       "      <th>Absent_hours</th>\n",
       "      <th>Social_drinker_yes</th>\n",
       "      <th>Social_smoker_yes</th>\n",
       "      <th>Disciplined_yes</th>\n",
       "    </tr>\n",
       "  </thead>\n",
       "  <tbody>\n",
       "    <tr>\n",
       "      <th>0</th>\n",
       "      <td>10</td>\n",
       "      <td>-1.521166</td>\n",
       "      <td>0.071376</td>\n",
       "      <td>-0.919726</td>\n",
       "      <td>-0.549416</td>\n",
       "      <td>83</td>\n",
       "      <td>172</td>\n",
       "      <td>0.283195</td>\n",
       "      <td>0.074101</td>\n",
       "      <td>0</td>\n",
       "      <td>0</td>\n",
       "      <td>0</td>\n",
       "    </tr>\n",
       "    <tr>\n",
       "      <th>1</th>\n",
       "      <td>3</td>\n",
       "      <td>2.068285</td>\n",
       "      <td>-1.322208</td>\n",
       "      <td>-0.021577</td>\n",
       "      <td>2.389628</td>\n",
       "      <td>80</td>\n",
       "      <td>172</td>\n",
       "      <td>0.052341</td>\n",
       "      <td>0.074101</td>\n",
       "      <td>1</td>\n",
       "      <td>0</td>\n",
       "      <td>0</td>\n",
       "    </tr>\n",
       "    <tr>\n",
       "      <th>2</th>\n",
       "      <td>12</td>\n",
       "      <td>1.034287</td>\n",
       "      <td>0.535904</td>\n",
       "      <td>-0.021577</td>\n",
       "      <td>0.185345</td>\n",
       "      <td>73</td>\n",
       "      <td>171</td>\n",
       "      <td>-0.409368</td>\n",
       "      <td>0.074101</td>\n",
       "      <td>1</td>\n",
       "      <td>0</td>\n",
       "      <td>0</td>\n",
       "    </tr>\n",
       "    <tr>\n",
       "      <th>3</th>\n",
       "      <td>14</td>\n",
       "      <td>0.399116</td>\n",
       "      <td>1.619803</td>\n",
       "      <td>0.876571</td>\n",
       "      <td>0.185345</td>\n",
       "      <td>86</td>\n",
       "      <td>165</td>\n",
       "      <td>1.206613</td>\n",
       "      <td>-0.439974</td>\n",
       "      <td>0</td>\n",
       "      <td>0</td>\n",
       "      <td>0</td>\n",
       "    </tr>\n",
       "    <tr>\n",
       "      <th>4</th>\n",
       "      <td>14</td>\n",
       "      <td>0.399116</td>\n",
       "      <td>1.619803</td>\n",
       "      <td>0.876571</td>\n",
       "      <td>0.185345</td>\n",
       "      <td>86</td>\n",
       "      <td>165</td>\n",
       "      <td>1.206613</td>\n",
       "      <td>-0.366535</td>\n",
       "      <td>0</td>\n",
       "      <td>0</td>\n",
       "      <td>0</td>\n",
       "    </tr>\n",
       "  </tbody>\n",
       "</table>\n",
       "</div>"
      ],
      "text/plain": [
       "   Months_active  Distance_from_work       Age  Children      Pets  Weight  \\\n",
       "0             10           -1.521166  0.071376 -0.919726 -0.549416      83   \n",
       "1              3            2.068285 -1.322208 -0.021577  2.389628      80   \n",
       "2             12            1.034287  0.535904 -0.021577  0.185345      73   \n",
       "3             14            0.399116  1.619803  0.876571  0.185345      86   \n",
       "4             14            0.399116  1.619803  0.876571  0.185345      86   \n",
       "\n",
       "   Height       BMI  Absent_hours  Social_drinker_yes  Social_smoker_yes  \\\n",
       "0     172  0.283195      0.074101                   0                  0   \n",
       "1     172  0.052341      0.074101                   1                  0   \n",
       "2     171 -0.409368      0.074101                   1                  0   \n",
       "3     165  1.206613     -0.439974                   0                  0   \n",
       "4     165  1.206613     -0.366535                   0                  0   \n",
       "\n",
       "   Disciplined_yes  \n",
       "0                0  \n",
       "1                0  \n",
       "2                0  \n",
       "3                0  \n",
       "4                0  "
      ]
     },
     "execution_count": 55,
     "metadata": {},
     "output_type": "execute_result"
    }
   ],
   "source": [
    "scaler = StandardScaler()\n",
    "df_standardized = df_cleaned.copy()\n",
    "df_standardized[['Distance_from_work','Age','Children','Pets','BMI','Absent_hours']] = scaler.fit_transform(\n",
    "    df_standardized[['Distance_from_work','Age','Children','Pets','BMI','Absent_hours']]\n",
    ")\n",
    "df_standardized.head()"
   ]
  },
  {
   "cell_type": "code",
   "execution_count": 56,
   "id": "f58bafaa",
   "metadata": {},
   "outputs": [
    {
     "name": "stdout",
     "output_type": "stream",
     "text": [
      "                            OLS Regression Results                            \n",
      "==============================================================================\n",
      "Dep. Variable:          Months_active   R-squared:                       0.655\n",
      "Model:                            OLS   Adj. R-squared:                  0.651\n",
      "Method:                 Least Squares   F-statistic:                     138.6\n",
      "Date:                Tue, 22 Apr 2025   Prob (F-statistic):          2.28e-145\n",
      "Time:                        15:57:32   Log-Likelihood:                -1572.7\n",
      "No. Observations:                 666   AIC:                             3165.\n",
      "Df Residuals:                     656   BIC:                             3210.\n",
      "Df Model:                           9                                         \n",
      "Covariance Type:            nonrobust                                         \n",
      "======================================================================================\n",
      "                         coef    std err          t      P>|t|      [0.025      0.975]\n",
      "--------------------------------------------------------------------------------------\n",
      "Intercept             11.3057      0.172     65.617      0.000      10.967      11.644\n",
      "Distance_from_work    -0.6823      0.125     -5.468      0.000      -0.927      -0.437\n",
      "Age                    1.7852      0.128     13.947      0.000       1.534       2.037\n",
      "Children              -0.0735      0.116     -0.635      0.526      -0.301       0.154\n",
      "Pets                  -1.2296      0.114    -10.771      0.000      -1.454      -1.005\n",
      "BMI                    0.8947      0.128      6.988      0.000       0.643       1.146\n",
      "Absent_hours          -0.0764      0.103     -0.745      0.457      -0.278       0.125\n",
      "Disciplined_yes       -1.1889      0.437     -2.723      0.007      -2.046      -0.331\n",
      "Social_drinker_yes     1.9576      0.229      8.551      0.000       1.508       2.407\n",
      "Social_smoker_yes      2.3384      0.420      5.568      0.000       1.514       3.163\n",
      "==============================================================================\n",
      "Omnibus:                       57.542   Durbin-Watson:                   2.035\n",
      "Prob(Omnibus):                  0.000   Jarque-Bera (JB):              269.345\n",
      "Skew:                           0.188   Prob(JB):                     3.26e-59\n",
      "Kurtosis:                       6.093   Cond. No.                         6.28\n",
      "==============================================================================\n",
      "\n",
      "Notes:\n",
      "[1] Standard Errors assume that the covariance matrix of the errors is correctly specified.\n"
     ]
    }
   ],
   "source": [
    "model3 = smf.ols('Months_active ~ Distance_from_work + Age + Children + Pets + BMI + Absent_hours + Disciplined_yes + Social_drinker_yes + Social_smoker_yes',data=df_standardized).fit()\n",
    "print(model3.summary())"
   ]
  },
  {
   "cell_type": "markdown",
   "id": "2e74ad96",
   "metadata": {},
   "source": [
    "# Assignment 4.1"
   ]
  },
  {
   "cell_type": "code",
   "execution_count": 57,
   "id": "c7636ece",
   "metadata": {},
   "outputs": [
    {
     "name": "stdout",
     "output_type": "stream",
     "text": [
      "the average prediction error with full data is: 2.0679\n"
     ]
    }
   ],
   "source": [
    "# Prepare the data\n",
    "df_standardized = df_standardized.dropna()  # remove missings\n",
    "y = df_standardized['Months_active']  # select Target\n",
    "X = df_standardized.drop('Months_active', axis=1)  # Select features\n",
    "\n",
    "\n",
    "\n",
    "# Prediction with all features\n",
    "# define the cross-validation\n",
    "cv = RepeatedKFold(n_splits=5,  # splits the data into 5 folds\n",
    "                   random_state=420)  # adding a number here ensures it will be the same each time\n",
    "\n",
    "# predict with Linear regression\n",
    "lm = LinearRegression()\n",
    "lmscores = cross_val_score(lm, X, y,  # these define the type of model, features, and target\n",
    "                           scoring='neg_mean_absolute_error',  # test using mean absolute deviation\n",
    "                           cv=cv)  # this loads the cross validation we wrote above\n",
    "\n",
    "lmMAE = mean(absolute(lmscores))  # Calculate the overall mean absolute error\n",
    "print('the average prediction error with full data is: %.4f' % lmMAE)  # Print the result"
   ]
  },
  {
   "cell_type": "markdown",
   "id": "88dcc373",
   "metadata": {},
   "source": [
    "# Assignment 4.2"
   ]
  },
  {
   "cell_type": "code",
   "execution_count": 58,
   "id": "51961193",
   "metadata": {},
   "outputs": [
    {
     "name": "stdout",
     "output_type": "stream",
     "text": [
      "The average prediction error with ridge is: 2.0401\n"
     ]
    }
   ],
   "source": [
    "#  Ridge regression  with data normalization, using 5 folds and alpha=1\n",
    "\n",
    "# preparing the data\n",
    "columns = X.columns  # create index with column names (needed for last step)\n",
    "scaler = MinMaxScaler()  # initiate the scaler\n",
    "X = scaler.fit_transform(X)  # scale the data\n",
    "X = pd.DataFrame(X, columns=columns)  # turn back into a dataframe\n",
    "\n",
    "# Define the model and alpha\n",
    "RidgeModel = Ridge(alpha=12)\n",
    "\n",
    "# Run the cross-fold validation\n",
    "scoresridge = cross_val_score(RidgeModel, X, y, scoring='neg_mean_absolute_error', cv=cv)\n",
    "\n",
    "# Print the average MAE\n",
    "ridgeMAE = np.mean(np.abs(scoresridge))  # Calculate the overall mean absolute error\n",
    "print('The average prediction error with ridge is: %.4f' % ridgeMAE)  # Print the result"
   ]
  },
  {
   "cell_type": "markdown",
   "id": "25634304",
   "metadata": {},
   "source": [
    "#### Best alpha "
   ]
  },
  {
   "cell_type": "code",
   "execution_count": 59,
   "id": "707a59e0",
   "metadata": {},
   "outputs": [
    {
     "name": "stdout",
     "output_type": "stream",
     "text": [
      "Best alpha:  13\n"
     ]
    }
   ],
   "source": [
    "# Assignment 4.2: Ridge regression  using 5 folds for best alpha value \n",
    "\n",
    "# Preparing the data\n",
    "columns = X.columns  # Save column names\n",
    "scaler = MinMaxScaler()  # Initiate the scaler\n",
    "X = scaler.fit_transform(X)  # Normalize the data\n",
    "X = pd.DataFrame(X, columns=columns)  # Convert back to DataFrame\n",
    "\n",
    "# Define alpha range for grid search\n",
    "alpha_range = np.arange(start=1, stop=100, step=1)  # 1 to 99\n",
    "\n",
    "# Define aspects of grid search\n",
    "cv = RepeatedKFold(n_splits=5)\n",
    "param = {'alpha':alpha_range}\n",
    "RidgeModel = Ridge() \n",
    "\n",
    "# Set up the grid search for optimal alpha\n",
    "RidgeM =    GridSearchCV(RidgeModel,\n",
    "                        param_grid=param,\n",
    "                        scoring = 'neg_mean_absolute_error',\n",
    "                        cv=cv)\n",
    "RidgeM.fit(X,y)\n",
    "print(\"Best alpha: \", RidgeM.best_params_['alpha'])"
   ]
  },
  {
   "cell_type": "code",
   "execution_count": 60,
   "id": "b1ded6d8",
   "metadata": {},
   "outputs": [
    {
     "name": "stdout",
     "output_type": "stream",
     "text": [
      "The average prediction error with ridge is: 2.0451\n"
     ]
    }
   ],
   "source": [
    "# Ridge regression  with best alpha\n",
    "\n",
    "# preparing the data\n",
    "columns = X.columns  # create index with column names (needed for last step)\n",
    "scaler = MinMaxScaler()  # initiate the scaler\n",
    "X = scaler.fit_transform(X)  # scale the data\n",
    "X = pd.DataFrame(X, columns=columns)  # turn back into a dataframe\n",
    "\n",
    "# Define the model and alpha\n",
    "RidgeModel = Ridge(alpha=13)\n",
    "\n",
    "# Run the cross-fold validation\n",
    "scoresridge = cross_val_score(RidgeModel, X, y, scoring='neg_mean_absolute_error', cv=cv)\n",
    "\n",
    "# Print the average MAE\n",
    "ridgeMAE = np.mean(np.abs(scoresridge))  # Calculate the overall mean absolute error\n",
    "print('The average prediction error with ridge is: %.4f' % ridgeMAE)  # Print the result"
   ]
  },
  {
   "cell_type": "markdown",
   "id": "989868d8",
   "metadata": {},
   "source": [
    "# Assignment 4.3"
   ]
  },
  {
   "cell_type": "code",
   "execution_count": 61,
   "id": "a6d3f7df",
   "metadata": {},
   "outputs": [
    {
     "name": "stderr",
     "output_type": "stream",
     "text": [
      "C:\\Users\\hacky\\AppData\\Local\\Temp\\ipykernel_11636\\910453320.py:22: DeprecationWarning: KerasRegressor is deprecated, use Sci-Keras (https://github.com/adriangb/scikeras) instead. See https://www.adriangb.com/scikeras/stable/migration.html for help migrating.\n",
      "  estimator = KerasRegressor(build_fn=create_baseline,\n"
     ]
    },
    {
     "name": "stdout",
     "output_type": "stream",
     "text": [
      "The average prediction error is: 0.4889\n"
     ]
    }
   ],
   "source": [
    "# Define the neural network model\n",
    "def create_baseline():\n",
    "    # Create model\n",
    "    nnmodel = tf.keras.models.Sequential([\n",
    "        tf.keras.layers.Input(shape=(X.shape[1],)),  # Input Layer\n",
    "        tf.keras.layers.Dense(512, activation='relu'),  # Hidden Layer 1\n",
    "        tf.keras.layers.Dense(512, activation='relu'),  # Hidden Layer 2\n",
    "        tf.keras.layers.Dense(512, activation='relu'),  # Hidden Layer 3\n",
    "        tf.keras.layers.Dense(512, activation='relu'),  # Hidden Layer 4\n",
    "        tf.keras.layers.Dense(512, activation='relu'),  # Hidden Layer 5\n",
    "        tf.keras.layers.Dense(1)  # Output Layer\n",
    "    ])\n",
    "    \n",
    "    # Compile model\n",
    "    nnmodel.compile(loss='mean_absolute_error',  # Loss function: MAE\n",
    "                    optimizer='adam',  # Optimizer: Adam\n",
    "                    metrics=['mae'])  # Evaluate with MAE\n",
    "    \n",
    "    return nnmodel\n",
    "\n",
    "# Define the estimator with updated hyperparameters\n",
    "estimator = KerasRegressor(build_fn=create_baseline,  \n",
    "                           epochs=100, batch_size=16,  # 100 epochs, batch size of 16\n",
    "                           verbose=0)  # Suppress output text\n",
    "\n",
    "# Define the k-fold function\n",
    "kfold = RepeatedKFold(n_splits=5, n_repeats=1, random_state=42)  # 5 splits, 1 repeat\n",
    "\n",
    "# Generate the results\n",
    "results = cross_val_score(estimator, X, y, cv=kfold, scoring='neg_mean_absolute_error')\n",
    "\n",
    "# Print the results\n",
    "print('The average prediction error is: %.4f' % mean(absolute(results)))"
   ]
  }
 ],
 "metadata": {
  "kernelspec": {
   "display_name": "newenv",
   "language": "python",
   "name": "python3"
  },
  "language_info": {
   "codemirror_mode": {
    "name": "ipython",
    "version": 3
   },
   "file_extension": ".py",
   "mimetype": "text/x-python",
   "name": "python",
   "nbconvert_exporter": "python",
   "pygments_lexer": "ipython3",
   "version": "3.10.16"
  }
 },
 "nbformat": 4,
 "nbformat_minor": 5
}
